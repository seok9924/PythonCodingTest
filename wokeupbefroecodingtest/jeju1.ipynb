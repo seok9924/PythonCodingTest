{
 "cells": [
  {
   "cell_type": "markdown",
   "id": "e3595126",
   "metadata": {},
   "source": [
    "모든 알고리즘을 해독할 수 있는 알고리즘 7 원석를 보유한 알고리즘 제왕 파이와 썬은 죽기 전, 이 보물에 '암호'를 걸어 세계 어딘가에 묻어놨다고 공표하였다. 그가 남긴 문자는 아래와 같다.\n",
    "\n"
   ]
  },
  {
   "cell_type": "code",
   "execution_count": 18,
   "id": "ddae8dc7",
   "metadata": {},
   "outputs": [
    {
     "data": {
      "text/plain": [
       "'   + - + - + - +   '"
      ]
     },
     "execution_count": 18,
     "metadata": {},
     "output_type": "execute_result"
    }
   ],
   "source": [
    "# 섬으로 향하라!\n",
    "\n",
    "'   + -- + - + -   '\n",
    "'   + --- + - +   '\n",
    "'   + -- + - + -   '\n",
    "'   + - + - + - +   '\n",
    "\n",
    "# 해(1)와 달(0),\n",
    "# Code의 세상 안으로!(En-Coding)"
   ]
  },
  {
   "cell_type": "code",
   "execution_count": 19,
   "id": "fd406c01",
   "metadata": {},
   "outputs": [],
   "source": [
    "a=0b1001010\n",
    "b=0b1000101\n",
    "c=0b1001010\n",
    "d=0b1010101"
   ]
  },
  {
   "cell_type": "code",
   "execution_count": 20,
   "id": "3fea2a30",
   "metadata": {
    "scrolled": true
   },
   "outputs": [
    {
     "data": {
      "text/plain": [
       "'J'"
      ]
     },
     "execution_count": 20,
     "metadata": {},
     "output_type": "execute_result"
    }
   ],
   "source": [
    "chr(a)"
   ]
  },
  {
   "cell_type": "code",
   "execution_count": 21,
   "id": "d88f2785",
   "metadata": {},
   "outputs": [
    {
     "data": {
      "text/plain": [
       "'E'"
      ]
     },
     "execution_count": 21,
     "metadata": {},
     "output_type": "execute_result"
    }
   ],
   "source": [
    "chr(b)"
   ]
  },
  {
   "cell_type": "code",
   "execution_count": 22,
   "id": "34985f9e",
   "metadata": {},
   "outputs": [
    {
     "data": {
      "text/plain": [
       "'J'"
      ]
     },
     "execution_count": 22,
     "metadata": {},
     "output_type": "execute_result"
    }
   ],
   "source": [
    "chr(c)"
   ]
  },
  {
   "cell_type": "code",
   "execution_count": 23,
   "id": "89e27b6a",
   "metadata": {},
   "outputs": [
    {
     "data": {
      "text/plain": [
       "'U'"
      ]
     },
     "execution_count": 23,
     "metadata": {},
     "output_type": "execute_result"
    }
   ],
   "source": [
    "chr(d)"
   ]
  },
  {
   "cell_type": "code",
   "execution_count": 24,
   "id": "4e69107a",
   "metadata": {},
   "outputs": [],
   "source": [
    "code= ['   + -- + - + -   ',\n",
    "'   + --- + - +   ',\n",
    "'   + -- + - + -   ',\n",
    "'   + - + - + - +   ']"
   ]
  },
  {
   "cell_type": "code",
   "execution_count": 25,
   "id": "2b8c7b0a",
   "metadata": {},
   "outputs": [
    {
     "data": {
      "text/plain": [
       "['   + -- + - + -   ',\n",
       " '   + --- + - +   ',\n",
       " '   + -- + - + -   ',\n",
       " '   + - + - + - +   ']"
      ]
     },
     "execution_count": 25,
     "metadata": {},
     "output_type": "execute_result"
    }
   ],
   "source": [
    "code\n"
   ]
  },
  {
   "cell_type": "code",
   "execution_count": 30,
   "id": "fe8dd8d1",
   "metadata": {},
   "outputs": [
    {
     "name": "stdout",
     "output_type": "stream",
     "text": [
      "['+--+-+-', '+---+-+', '+--+-+-', '+-+-+-+']\n"
     ]
    }
   ],
   "source": [
    "clean_code=[]\n",
    "for i in code:\n",
    "    clean_code.append(i.strip().replace(' ',''))\n",
    "\n",
    "print(clean_code)\n",
    "\n",
    "    "
   ]
  },
  {
   "cell_type": "code",
   "execution_count": 44,
   "id": "02122a1e",
   "metadata": {},
   "outputs": [
    {
     "name": "stdout",
     "output_type": "stream",
     "text": [
      "['1001010', '1000101', '1001010', '1010101']\n"
     ]
    }
   ],
   "source": [
    "for i in range (len(clean_code)):\n",
    "    \n",
    "    clean_code[i]= clean_code[i].replace('+','1')\n",
    "    clean_code[i]= clean_code[i].replace('-','0')\n",
    "\n",
    "print(clean_code)"
   ]
  },
  {
   "cell_type": "code",
   "execution_count": 63,
   "id": "0a0ef0ec",
   "metadata": {},
   "outputs": [
    {
     "name": "stdout",
     "output_type": "stream",
     "text": [
      "JEJU"
     ]
    }
   ],
   "source": [
    "for i in clean_code:\n",
    "    a= '0b'+i\n",
    "    print(chr(int(a,2)) ,end='')\n"
   ]
  },
  {
   "cell_type": "markdown",
   "id": "d77e90d7",
   "metadata": {},
   "source": [
    "다음에는 i.strip().replace(' ','').replace('+','1').replcae('-','0') 한번에 쓰자\n",
    "몰랐음\n"
   ]
  },
  {
   "cell_type": "code",
   "execution_count": 64,
   "id": "dabade2f",
   "metadata": {},
   "outputs": [
    {
     "data": {
      "text/plain": [
       "['1001010', '1000101', '1001010', '1010101']"
      ]
     },
     "execution_count": 64,
     "metadata": {},
     "output_type": "execute_result"
    }
   ],
   "source": [
    "clean_code"
   ]
  },
  {
   "cell_type": "code",
   "execution_count": 65,
   "id": "a9d14c44",
   "metadata": {},
   "outputs": [
    {
     "data": {
      "text/plain": [
       "['J', 'E', 'J', 'U']"
      ]
     },
     "execution_count": 65,
     "metadata": {},
     "output_type": "execute_result"
    }
   ],
   "source": [
    "list(map(lambda x: chr(int(x,2)),clean_code))"
   ]
  },
  {
   "cell_type": "code",
   "execution_count": 66,
   "id": "90f2df58",
   "metadata": {},
   "outputs": [
    {
     "data": {
      "text/plain": [
       "['J', 'E', 'J', 'U']"
      ]
     },
     "execution_count": 66,
     "metadata": {},
     "output_type": "execute_result"
    }
   ],
   "source": [
    "def f(x):\n",
    "    return  chr(int(x,2))\n",
    "\n",
    "list(map(f,clean_code))"
   ]
  },
  {
   "cell_type": "code",
   "execution_count": null,
   "id": "b3bd0910",
   "metadata": {},
   "outputs": [],
   "source": []
  }
 ],
 "metadata": {
  "kernelspec": {
   "display_name": "Python 3 (ipykernel)",
   "language": "python",
   "name": "python3"
  },
  "language_info": {
   "codemirror_mode": {
    "name": "ipython",
    "version": 3
   },
   "file_extension": ".py",
   "mimetype": "text/x-python",
   "name": "python",
   "nbconvert_exporter": "python",
   "pygments_lexer": "ipython3",
   "version": "3.9.16"
  }
 },
 "nbformat": 4,
 "nbformat_minor": 5
}
