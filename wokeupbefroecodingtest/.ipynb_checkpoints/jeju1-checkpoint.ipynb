{
 "cells": [
  {
   "cell_type": "markdown",
   "id": "4495a10d",
   "metadata": {},
   "source": [
    "모든 알고리즘을 해독할 수 있는 알고리즘 7 원석를 보유한 알고리즘 제왕 파이와 썬은 죽기 전, 이 보물에 '암호'를 걸어 세계 어딘가에 묻어놨다고 공표하였다. 그가 남긴 문자는 아래와 같다.\n",
    "\n"
   ]
  },
  {
   "cell_type": "code",
   "execution_count": 18,
   "id": "d54faaf5",
   "metadata": {},
   "outputs": [
    {
     "data": {
      "text/plain": [
       "'   + - + - + - +   '"
      ]
     },
     "execution_count": 18,
     "metadata": {},
     "output_type": "execute_result"
    }
   ],
   "source": [
    "# 섬으로 향하라!\n",
    "\n",
    "'   + -- + - + -   '\n",
    "'   + --- + - +   '\n",
    "'   + -- + - + -   '\n",
    "'   + - + - + - +   '\n",
    "\n",
    "# 해(1)와 달(0),\n",
    "# Code의 세상 안으로!(En-Coding)"
   ]
  },
  {
   "cell_type": "code",
   "execution_count": 19,
   "id": "bb252856",
   "metadata": {},
   "outputs": [],
   "source": [
    "a=0b1001010\n",
    "b=0b1000101\n",
    "c=0b1001010\n",
    "d=0b1010101"
   ]
  },
  {
   "cell_type": "code",
   "execution_count": 20,
   "id": "23abb580",
   "metadata": {
    "scrolled": true
   },
   "outputs": [
    {
     "data": {
      "text/plain": [
       "'J'"
      ]
     },
     "execution_count": 20,
     "metadata": {},
     "output_type": "execute_result"
    }
   ],
   "source": [
    "chr(a)"
   ]
  },
  {
   "cell_type": "code",
   "execution_count": 21,
   "id": "a4299a62",
   "metadata": {},
   "outputs": [
    {
     "data": {
      "text/plain": [
       "'E'"
      ]
     },
     "execution_count": 21,
     "metadata": {},
     "output_type": "execute_result"
    }
   ],
   "source": [
    "chr(b)"
   ]
  },
  {
   "cell_type": "code",
   "execution_count": 22,
   "id": "611a5e5c",
   "metadata": {},
   "outputs": [
    {
     "data": {
      "text/plain": [
       "'J'"
      ]
     },
     "execution_count": 22,
     "metadata": {},
     "output_type": "execute_result"
    }
   ],
   "source": [
    "chr(c)"
   ]
  },
  {
   "cell_type": "code",
   "execution_count": 23,
   "id": "ea238560",
   "metadata": {},
   "outputs": [
    {
     "data": {
      "text/plain": [
       "'U'"
      ]
     },
     "execution_count": 23,
     "metadata": {},
     "output_type": "execute_result"
    }
   ],
   "source": [
    "chr(d)"
   ]
  },
  {
   "cell_type": "code",
   "execution_count": 24,
   "id": "39457dca",
   "metadata": {},
   "outputs": [],
   "source": [
    "code= ['   + -- + - + -   ',\n",
    "'   + --- + - +   ',\n",
    "'   + -- + - + -   ',\n",
    "'   + - + - + - +   ']"
   ]
  },
  {
   "cell_type": "code",
   "execution_count": 25,
   "id": "7d9ec3fa",
   "metadata": {},
   "outputs": [
    {
     "data": {
      "text/plain": [
       "['   + -- + - + -   ',\n",
       " '   + --- + - +   ',\n",
       " '   + -- + - + -   ',\n",
       " '   + - + - + - +   ']"
      ]
     },
     "execution_count": 25,
     "metadata": {},
     "output_type": "execute_result"
    }
   ],
   "source": [
    "code\n"
   ]
  },
  {
   "cell_type": "code",
   "execution_count": 30,
   "id": "0172b4e3",
   "metadata": {},
   "outputs": [
    {
     "name": "stdout",
     "output_type": "stream",
     "text": [
      "['+--+-+-', '+---+-+', '+--+-+-', '+-+-+-+']\n"
     ]
    }
   ],
   "source": [
    "clean_code=[]\n",
    "for i in code:\n",
    "    clean_code.append(i.strip().replace(' ',''))\n",
    "\n",
    "print(clean_code)\n",
    "\n",
    "    "
   ]
  },
  {
   "cell_type": "code",
   "execution_count": 44,
   "id": "b15cadfe",
   "metadata": {},
   "outputs": [
    {
     "name": "stdout",
     "output_type": "stream",
     "text": [
      "['1001010', '1000101', '1001010', '1010101']\n"
     ]
    }
   ],
   "source": [
    "for i in range (len(clean_code)):\n",
    "    \n",
    "    clean_code[i]= clean_code[i].replace('+','1')\n",
    "    clean_code[i]= clean_code[i].replace('-','0')\n",
    "\n",
    "print(clean_code)"
   ]
  },
  {
   "cell_type": "code",
   "execution_count": 63,
   "id": "0c47f71e",
   "metadata": {},
   "outputs": [
    {
     "name": "stdout",
     "output_type": "stream",
     "text": [
      "JEJU"
     ]
    }
   ],
   "source": [
    "for i in clean_code:\n",
    "    a= '0b'+i\n",
    "    print(chr(int(a,2)) ,end='')\n"
   ]
  },
  {
   "cell_type": "markdown",
   "id": "11029e83",
   "metadata": {},
   "source": [
    "다음에는 i.strip().replace(' ','').replace('+','1').replcae('-','0') 한번에 쓰자\n",
    "몰랐음\n"
   ]
  },
  {
   "cell_type": "code",
   "execution_count": null,
   "id": "0a5098e1",
   "metadata": {},
   "outputs": [],
   "source": []
  }
 ],
 "metadata": {
  "kernelspec": {
   "display_name": "Python 3 (ipykernel)",
   "language": "python",
   "name": "python3"
  },
  "language_info": {
   "codemirror_mode": {
    "name": "ipython",
    "version": 3
   },
   "file_extension": ".py",
   "mimetype": "text/x-python",
   "name": "python",
   "nbconvert_exporter": "python",
   "pygments_lexer": "ipython3",
   "version": "3.9.16"
  }
 },
 "nbformat": 4,
 "nbformat_minor": 5
}
